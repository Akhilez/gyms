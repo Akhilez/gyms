{
 "cells": [
  {
   "cell_type": "code",
   "execution_count": 1,
   "metadata": {
    "collapsed": true
   },
   "outputs": [],
   "source": [
    "import pandas as pd"
   ]
  },
  {
   "cell_type": "code",
   "execution_count": 2,
   "outputs": [],
   "source": [
    "df = pd.read_csv('stats.csv')"
   ],
   "metadata": {
    "collapsed": false
   }
  },
  {
   "cell_type": "code",
   "execution_count": 8,
   "outputs": [
    {
     "data": {
      "text/plain": "      Unnamed: 0          first_action  health_begin  health_end  \\\n472          473  ((0.0, 0.0, 0.0), 2)       -0.3165      -0.319   \n553          554  ((0.0, 0.0, 0.0), 2)       -0.4595      -0.462   \n3342        3343  ((0.0, 0.0, 0.0), 2)       -8.7265      -8.729   \n3352        3353  ((0.0, 0.0, 0.0), 2)       -8.6565      -8.659   \n3696        3697  ((0.0, 0.0, 0.0), 2)       -9.5885      -9.591   \n4294        4295  ((0.0, 0.0, 0.0), 2)      -11.2825     -11.285   \n5651        5652  ((0.0, 0.0, 0.0), 2)      -15.2535     -15.256   \n6636        6637  ((0.0, 0.0, 0.0), 2)      -18.1085     -18.111   \n6711        6712  ((0.0, 0.0, 0.0), 2)      -18.2335     -18.236   \n7115        7116  ((0.0, 0.0, 0.0), 2)      -19.3455     -19.348   \n7794        7795  ((0.0, 0.0, 0.0), 2)      -21.2825     -21.285   \n8001        8002  ((0.0, 0.0, 0.0), 2)      -21.8035     -21.806   \n9708        9709  ((0.0, 0.0, 0.0), 2)      -26.8245     -26.827   \n9988        9989  ((0.0, 0.0, 0.0), 2)      -27.5645     -27.567   \n\n      n_burnt_animal  n_burnt_crossbow  n_killed_animal  n_destroyed_crossbow  \\\n472                0                 0                0                     0   \n553                0                 0                0                     0   \n3342               0                 0                0                     0   \n3352               0                 0                0                     0   \n3696               0                 0                0                     0   \n4294               0                 0                0                     0   \n5651               0                 0                0                     0   \n6636               0                 0                0                     0   \n6711               0                 0                0                     0   \n7115               0                 0                0                     0   \n7794               0                 0                0                     0   \n8001               0                 0                0                     0   \n9708               0                 0                0                     0   \n9988               0                 0                0                     0   \n\n      n_eaten_animal  n_acquired_key  n_unlocked  n_flown_away  \n472                1               0           0             0  \n553                1               0           0             0  \n3342               1               0           0             0  \n3352               1               0           0             0  \n3696               1               0           0             0  \n4294               1               0           0             0  \n5651               1               0           0             0  \n6636               1               0           0             0  \n6711               1               0           0             0  \n7115               1               0           0             0  \n7794               1               0           0             0  \n8001               1               0           0             0  \n9708               1               0           0             0  \n9988               1               0           0             0  ",
      "text/html": "<div>\n<style scoped>\n    .dataframe tbody tr th:only-of-type {\n        vertical-align: middle;\n    }\n\n    .dataframe tbody tr th {\n        vertical-align: top;\n    }\n\n    .dataframe thead th {\n        text-align: right;\n    }\n</style>\n<table border=\"1\" class=\"dataframe\">\n  <thead>\n    <tr style=\"text-align: right;\">\n      <th></th>\n      <th>Unnamed: 0</th>\n      <th>first_action</th>\n      <th>health_begin</th>\n      <th>health_end</th>\n      <th>n_burnt_animal</th>\n      <th>n_burnt_crossbow</th>\n      <th>n_killed_animal</th>\n      <th>n_destroyed_crossbow</th>\n      <th>n_eaten_animal</th>\n      <th>n_acquired_key</th>\n      <th>n_unlocked</th>\n      <th>n_flown_away</th>\n    </tr>\n  </thead>\n  <tbody>\n    <tr>\n      <th>472</th>\n      <td>473</td>\n      <td>((0.0, 0.0, 0.0), 2)</td>\n      <td>-0.3165</td>\n      <td>-0.319</td>\n      <td>0</td>\n      <td>0</td>\n      <td>0</td>\n      <td>0</td>\n      <td>1</td>\n      <td>0</td>\n      <td>0</td>\n      <td>0</td>\n    </tr>\n    <tr>\n      <th>553</th>\n      <td>554</td>\n      <td>((0.0, 0.0, 0.0), 2)</td>\n      <td>-0.4595</td>\n      <td>-0.462</td>\n      <td>0</td>\n      <td>0</td>\n      <td>0</td>\n      <td>0</td>\n      <td>1</td>\n      <td>0</td>\n      <td>0</td>\n      <td>0</td>\n    </tr>\n    <tr>\n      <th>3342</th>\n      <td>3343</td>\n      <td>((0.0, 0.0, 0.0), 2)</td>\n      <td>-8.7265</td>\n      <td>-8.729</td>\n      <td>0</td>\n      <td>0</td>\n      <td>0</td>\n      <td>0</td>\n      <td>1</td>\n      <td>0</td>\n      <td>0</td>\n      <td>0</td>\n    </tr>\n    <tr>\n      <th>3352</th>\n      <td>3353</td>\n      <td>((0.0, 0.0, 0.0), 2)</td>\n      <td>-8.6565</td>\n      <td>-8.659</td>\n      <td>0</td>\n      <td>0</td>\n      <td>0</td>\n      <td>0</td>\n      <td>1</td>\n      <td>0</td>\n      <td>0</td>\n      <td>0</td>\n    </tr>\n    <tr>\n      <th>3696</th>\n      <td>3697</td>\n      <td>((0.0, 0.0, 0.0), 2)</td>\n      <td>-9.5885</td>\n      <td>-9.591</td>\n      <td>0</td>\n      <td>0</td>\n      <td>0</td>\n      <td>0</td>\n      <td>1</td>\n      <td>0</td>\n      <td>0</td>\n      <td>0</td>\n    </tr>\n    <tr>\n      <th>4294</th>\n      <td>4295</td>\n      <td>((0.0, 0.0, 0.0), 2)</td>\n      <td>-11.2825</td>\n      <td>-11.285</td>\n      <td>0</td>\n      <td>0</td>\n      <td>0</td>\n      <td>0</td>\n      <td>1</td>\n      <td>0</td>\n      <td>0</td>\n      <td>0</td>\n    </tr>\n    <tr>\n      <th>5651</th>\n      <td>5652</td>\n      <td>((0.0, 0.0, 0.0), 2)</td>\n      <td>-15.2535</td>\n      <td>-15.256</td>\n      <td>0</td>\n      <td>0</td>\n      <td>0</td>\n      <td>0</td>\n      <td>1</td>\n      <td>0</td>\n      <td>0</td>\n      <td>0</td>\n    </tr>\n    <tr>\n      <th>6636</th>\n      <td>6637</td>\n      <td>((0.0, 0.0, 0.0), 2)</td>\n      <td>-18.1085</td>\n      <td>-18.111</td>\n      <td>0</td>\n      <td>0</td>\n      <td>0</td>\n      <td>0</td>\n      <td>1</td>\n      <td>0</td>\n      <td>0</td>\n      <td>0</td>\n    </tr>\n    <tr>\n      <th>6711</th>\n      <td>6712</td>\n      <td>((0.0, 0.0, 0.0), 2)</td>\n      <td>-18.2335</td>\n      <td>-18.236</td>\n      <td>0</td>\n      <td>0</td>\n      <td>0</td>\n      <td>0</td>\n      <td>1</td>\n      <td>0</td>\n      <td>0</td>\n      <td>0</td>\n    </tr>\n    <tr>\n      <th>7115</th>\n      <td>7116</td>\n      <td>((0.0, 0.0, 0.0), 2)</td>\n      <td>-19.3455</td>\n      <td>-19.348</td>\n      <td>0</td>\n      <td>0</td>\n      <td>0</td>\n      <td>0</td>\n      <td>1</td>\n      <td>0</td>\n      <td>0</td>\n      <td>0</td>\n    </tr>\n    <tr>\n      <th>7794</th>\n      <td>7795</td>\n      <td>((0.0, 0.0, 0.0), 2)</td>\n      <td>-21.2825</td>\n      <td>-21.285</td>\n      <td>0</td>\n      <td>0</td>\n      <td>0</td>\n      <td>0</td>\n      <td>1</td>\n      <td>0</td>\n      <td>0</td>\n      <td>0</td>\n    </tr>\n    <tr>\n      <th>8001</th>\n      <td>8002</td>\n      <td>((0.0, 0.0, 0.0), 2)</td>\n      <td>-21.8035</td>\n      <td>-21.806</td>\n      <td>0</td>\n      <td>0</td>\n      <td>0</td>\n      <td>0</td>\n      <td>1</td>\n      <td>0</td>\n      <td>0</td>\n      <td>0</td>\n    </tr>\n    <tr>\n      <th>9708</th>\n      <td>9709</td>\n      <td>((0.0, 0.0, 0.0), 2)</td>\n      <td>-26.8245</td>\n      <td>-26.827</td>\n      <td>0</td>\n      <td>0</td>\n      <td>0</td>\n      <td>0</td>\n      <td>1</td>\n      <td>0</td>\n      <td>0</td>\n      <td>0</td>\n    </tr>\n    <tr>\n      <th>9988</th>\n      <td>9989</td>\n      <td>((0.0, 0.0, 0.0), 2)</td>\n      <td>-27.5645</td>\n      <td>-27.567</td>\n      <td>0</td>\n      <td>0</td>\n      <td>0</td>\n      <td>0</td>\n      <td>1</td>\n      <td>0</td>\n      <td>0</td>\n      <td>0</td>\n    </tr>\n  </tbody>\n</table>\n</div>"
     },
     "execution_count": 8,
     "metadata": {},
     "output_type": "execute_result"
    }
   ],
   "source": [
    "df[df.n_eaten_animal.gt(0)]"
   ],
   "metadata": {
    "collapsed": false
   }
  },
  {
   "cell_type": "code",
   "execution_count": 9,
   "outputs": [
    {
     "data": {
      "text/plain": "      Unnamed: 0           first_action  health_begin  health_end  \\\n0              1   ((0.0, 0.0, 0.0), 1)        0.9995       0.997   \n1              2  ((0.0, 0.0, -1.0), 0)        0.9965       0.994   \n2              3  ((0.0, 0.0, -1.0), 0)        0.9935       0.991   \n3              4   ((0.0, 0.0, 0.0), 1)        0.9905       0.988   \n4              5   ((0.0, 0.0, 0.0), 0)        0.9875       0.985   \n...          ...                    ...           ...         ...   \n9995        9996   ((0.0, 1.0, 0.0), 0)      -27.5855     -27.588   \n9996        9997   ((0.0, 1.0, 0.0), 0)      -27.5885     -27.591   \n9997        9998   ((0.0, 1.0, 0.0), 0)      -27.5915     -27.594   \n9998        9999   ((0.0, 1.0, 0.0), 0)      -27.5945     -27.597   \n9999       10000   ((0.0, 1.0, 0.0), 0)      -27.5975     -27.600   \n\n      n_burnt_animal  n_burnt_crossbow  n_killed_animal  n_destroyed_crossbow  \\\n0                  0                 0                0                     0   \n1                  0                 0                0                     0   \n2                  0                 0                0                     0   \n3                  0                 0                0                     0   \n4                  0                 0                0                     0   \n...              ...               ...              ...                   ...   \n9995               0                 0                0                     0   \n9996               0                 0                0                     0   \n9997               0                 0                0                     0   \n9998               0                 0                0                     0   \n9999               0                 0                0                     0   \n\n      n_eaten_animal  n_acquired_key  n_unlocked  n_flown_away  \n0                  0               0           0             0  \n1                  0               0           0             0  \n2                  0               0           0             0  \n3                  0               0           0             0  \n4                  0               0           0             0  \n...              ...             ...         ...           ...  \n9995               0               0           0             0  \n9996               0               0           0             0  \n9997               0               0           0             0  \n9998               0               0           0             0  \n9999               0               0           0             0  \n\n[10000 rows x 12 columns]",
      "text/html": "<div>\n<style scoped>\n    .dataframe tbody tr th:only-of-type {\n        vertical-align: middle;\n    }\n\n    .dataframe tbody tr th {\n        vertical-align: top;\n    }\n\n    .dataframe thead th {\n        text-align: right;\n    }\n</style>\n<table border=\"1\" class=\"dataframe\">\n  <thead>\n    <tr style=\"text-align: right;\">\n      <th></th>\n      <th>Unnamed: 0</th>\n      <th>first_action</th>\n      <th>health_begin</th>\n      <th>health_end</th>\n      <th>n_burnt_animal</th>\n      <th>n_burnt_crossbow</th>\n      <th>n_killed_animal</th>\n      <th>n_destroyed_crossbow</th>\n      <th>n_eaten_animal</th>\n      <th>n_acquired_key</th>\n      <th>n_unlocked</th>\n      <th>n_flown_away</th>\n    </tr>\n  </thead>\n  <tbody>\n    <tr>\n      <th>0</th>\n      <td>1</td>\n      <td>((0.0, 0.0, 0.0), 1)</td>\n      <td>0.9995</td>\n      <td>0.997</td>\n      <td>0</td>\n      <td>0</td>\n      <td>0</td>\n      <td>0</td>\n      <td>0</td>\n      <td>0</td>\n      <td>0</td>\n      <td>0</td>\n    </tr>\n    <tr>\n      <th>1</th>\n      <td>2</td>\n      <td>((0.0, 0.0, -1.0), 0)</td>\n      <td>0.9965</td>\n      <td>0.994</td>\n      <td>0</td>\n      <td>0</td>\n      <td>0</td>\n      <td>0</td>\n      <td>0</td>\n      <td>0</td>\n      <td>0</td>\n      <td>0</td>\n    </tr>\n    <tr>\n      <th>2</th>\n      <td>3</td>\n      <td>((0.0, 0.0, -1.0), 0)</td>\n      <td>0.9935</td>\n      <td>0.991</td>\n      <td>0</td>\n      <td>0</td>\n      <td>0</td>\n      <td>0</td>\n      <td>0</td>\n      <td>0</td>\n      <td>0</td>\n      <td>0</td>\n    </tr>\n    <tr>\n      <th>3</th>\n      <td>4</td>\n      <td>((0.0, 0.0, 0.0), 1)</td>\n      <td>0.9905</td>\n      <td>0.988</td>\n      <td>0</td>\n      <td>0</td>\n      <td>0</td>\n      <td>0</td>\n      <td>0</td>\n      <td>0</td>\n      <td>0</td>\n      <td>0</td>\n    </tr>\n    <tr>\n      <th>4</th>\n      <td>5</td>\n      <td>((0.0, 0.0, 0.0), 0)</td>\n      <td>0.9875</td>\n      <td>0.985</td>\n      <td>0</td>\n      <td>0</td>\n      <td>0</td>\n      <td>0</td>\n      <td>0</td>\n      <td>0</td>\n      <td>0</td>\n      <td>0</td>\n    </tr>\n    <tr>\n      <th>...</th>\n      <td>...</td>\n      <td>...</td>\n      <td>...</td>\n      <td>...</td>\n      <td>...</td>\n      <td>...</td>\n      <td>...</td>\n      <td>...</td>\n      <td>...</td>\n      <td>...</td>\n      <td>...</td>\n      <td>...</td>\n    </tr>\n    <tr>\n      <th>9995</th>\n      <td>9996</td>\n      <td>((0.0, 1.0, 0.0), 0)</td>\n      <td>-27.5855</td>\n      <td>-27.588</td>\n      <td>0</td>\n      <td>0</td>\n      <td>0</td>\n      <td>0</td>\n      <td>0</td>\n      <td>0</td>\n      <td>0</td>\n      <td>0</td>\n    </tr>\n    <tr>\n      <th>9996</th>\n      <td>9997</td>\n      <td>((0.0, 1.0, 0.0), 0)</td>\n      <td>-27.5885</td>\n      <td>-27.591</td>\n      <td>0</td>\n      <td>0</td>\n      <td>0</td>\n      <td>0</td>\n      <td>0</td>\n      <td>0</td>\n      <td>0</td>\n      <td>0</td>\n    </tr>\n    <tr>\n      <th>9997</th>\n      <td>9998</td>\n      <td>((0.0, 1.0, 0.0), 0)</td>\n      <td>-27.5915</td>\n      <td>-27.594</td>\n      <td>0</td>\n      <td>0</td>\n      <td>0</td>\n      <td>0</td>\n      <td>0</td>\n      <td>0</td>\n      <td>0</td>\n      <td>0</td>\n    </tr>\n    <tr>\n      <th>9998</th>\n      <td>9999</td>\n      <td>((0.0, 1.0, 0.0), 0)</td>\n      <td>-27.5945</td>\n      <td>-27.597</td>\n      <td>0</td>\n      <td>0</td>\n      <td>0</td>\n      <td>0</td>\n      <td>0</td>\n      <td>0</td>\n      <td>0</td>\n      <td>0</td>\n    </tr>\n    <tr>\n      <th>9999</th>\n      <td>10000</td>\n      <td>((0.0, 1.0, 0.0), 0)</td>\n      <td>-27.5975</td>\n      <td>-27.600</td>\n      <td>0</td>\n      <td>0</td>\n      <td>0</td>\n      <td>0</td>\n      <td>0</td>\n      <td>0</td>\n      <td>0</td>\n      <td>0</td>\n    </tr>\n  </tbody>\n</table>\n<p>10000 rows × 12 columns</p>\n</div>"
     },
     "execution_count": 9,
     "metadata": {},
     "output_type": "execute_result"
    }
   ],
   "source": [
    "df"
   ],
   "metadata": {
    "collapsed": false
   }
  },
  {
   "cell_type": "code",
   "execution_count": null,
   "outputs": [],
   "source": [],
   "metadata": {
    "collapsed": false
   }
  }
 ],
 "metadata": {
  "kernelspec": {
   "display_name": "Python 3",
   "language": "python",
   "name": "python3"
  },
  "language_info": {
   "codemirror_mode": {
    "name": "ipython",
    "version": 2
   },
   "file_extension": ".py",
   "mimetype": "text/x-python",
   "name": "python",
   "nbconvert_exporter": "python",
   "pygments_lexer": "ipython2",
   "version": "2.7.6"
  }
 },
 "nbformat": 4,
 "nbformat_minor": 0
}
