{
 "cells": [
  {
   "cell_type": "code",
   "execution_count": 1,
   "metadata": {
    "collapsed": true
   },
   "outputs": [],
   "source": [
    "import pandas as pd"
   ]
  },
  {
   "cell_type": "code",
   "execution_count": 2,
   "outputs": [],
   "source": [
    "df = pd.read_csv('stats_framestack.csv')"
   ],
   "metadata": {
    "collapsed": false
   }
  },
  {
   "cell_type": "code",
   "execution_count": 5,
   "outputs": [
    {
     "data": {
      "text/plain": "     Unnamed: 0           first_action  health_begin  health_end  \\\n0             1   ((0.0, 0.0, 0.0), 0)        0.9995       0.997   \n1             2   ((0.0, 0.0, 0.0), 1)        0.9965       0.994   \n2             3   ((0.0, 1.0, 0.0), 0)        0.9935       0.991   \n3             4  ((-1.0, 0.0, 0.0), 0)        0.9905       0.988   \n4             5  ((0.0, 0.0, -1.0), 0)        0.9875       0.985   \n..          ...                    ...           ...         ...   \n328         329   ((0.0, 0.0, 0.0), 1)        0.0155       0.013   \n329         330   ((0.0, 0.0, 0.0), 1)        0.0125       0.010   \n330         331   ((0.0, 0.0, 0.0), 1)        0.0095       0.007   \n331         332   ((0.0, 0.0, 0.0), 1)        0.0065       0.004   \n332         333   ((0.0, 0.0, 0.0), 1)        0.0035       0.001   \n\n     n_burnt_animal  n_burnt_crossbow  n_killed_animal  n_destroyed_crossbow  \\\n0                 0                 0                0                     0   \n1                 0                 0                0                     0   \n2                 0                 0                0                     0   \n3                 0                 0                0                     0   \n4                 0                 0                0                     0   \n..              ...               ...              ...                   ...   \n328               0                 0                0                     0   \n329               0                 0                0                     0   \n330               0                 0                0                     0   \n331               0                 0                0                     0   \n332               0                 0                0                     0   \n\n     n_eaten_animal  n_acquired_key  n_unlocked  n_flown_away  \n0                 0               0           0             0  \n1                 0               0           0             0  \n2                 0               0           0             0  \n3                 0               0           0             0  \n4                 0               0           0             0  \n..              ...             ...         ...           ...  \n328               0               0           0             0  \n329               0               0           0             0  \n330               0               0           0             0  \n331               0               0           0             0  \n332               0               0           0             0  \n\n[333 rows x 12 columns]",
      "text/html": "<div>\n<style scoped>\n    .dataframe tbody tr th:only-of-type {\n        vertical-align: middle;\n    }\n\n    .dataframe tbody tr th {\n        vertical-align: top;\n    }\n\n    .dataframe thead th {\n        text-align: right;\n    }\n</style>\n<table border=\"1\" class=\"dataframe\">\n  <thead>\n    <tr style=\"text-align: right;\">\n      <th></th>\n      <th>Unnamed: 0</th>\n      <th>first_action</th>\n      <th>health_begin</th>\n      <th>health_end</th>\n      <th>n_burnt_animal</th>\n      <th>n_burnt_crossbow</th>\n      <th>n_killed_animal</th>\n      <th>n_destroyed_crossbow</th>\n      <th>n_eaten_animal</th>\n      <th>n_acquired_key</th>\n      <th>n_unlocked</th>\n      <th>n_flown_away</th>\n    </tr>\n  </thead>\n  <tbody>\n    <tr>\n      <th>0</th>\n      <td>1</td>\n      <td>((0.0, 0.0, 0.0), 0)</td>\n      <td>0.9995</td>\n      <td>0.997</td>\n      <td>0</td>\n      <td>0</td>\n      <td>0</td>\n      <td>0</td>\n      <td>0</td>\n      <td>0</td>\n      <td>0</td>\n      <td>0</td>\n    </tr>\n    <tr>\n      <th>1</th>\n      <td>2</td>\n      <td>((0.0, 0.0, 0.0), 1)</td>\n      <td>0.9965</td>\n      <td>0.994</td>\n      <td>0</td>\n      <td>0</td>\n      <td>0</td>\n      <td>0</td>\n      <td>0</td>\n      <td>0</td>\n      <td>0</td>\n      <td>0</td>\n    </tr>\n    <tr>\n      <th>2</th>\n      <td>3</td>\n      <td>((0.0, 1.0, 0.0), 0)</td>\n      <td>0.9935</td>\n      <td>0.991</td>\n      <td>0</td>\n      <td>0</td>\n      <td>0</td>\n      <td>0</td>\n      <td>0</td>\n      <td>0</td>\n      <td>0</td>\n      <td>0</td>\n    </tr>\n    <tr>\n      <th>3</th>\n      <td>4</td>\n      <td>((-1.0, 0.0, 0.0), 0)</td>\n      <td>0.9905</td>\n      <td>0.988</td>\n      <td>0</td>\n      <td>0</td>\n      <td>0</td>\n      <td>0</td>\n      <td>0</td>\n      <td>0</td>\n      <td>0</td>\n      <td>0</td>\n    </tr>\n    <tr>\n      <th>4</th>\n      <td>5</td>\n      <td>((0.0, 0.0, -1.0), 0)</td>\n      <td>0.9875</td>\n      <td>0.985</td>\n      <td>0</td>\n      <td>0</td>\n      <td>0</td>\n      <td>0</td>\n      <td>0</td>\n      <td>0</td>\n      <td>0</td>\n      <td>0</td>\n    </tr>\n    <tr>\n      <th>...</th>\n      <td>...</td>\n      <td>...</td>\n      <td>...</td>\n      <td>...</td>\n      <td>...</td>\n      <td>...</td>\n      <td>...</td>\n      <td>...</td>\n      <td>...</td>\n      <td>...</td>\n      <td>...</td>\n      <td>...</td>\n    </tr>\n    <tr>\n      <th>328</th>\n      <td>329</td>\n      <td>((0.0, 0.0, 0.0), 1)</td>\n      <td>0.0155</td>\n      <td>0.013</td>\n      <td>0</td>\n      <td>0</td>\n      <td>0</td>\n      <td>0</td>\n      <td>0</td>\n      <td>0</td>\n      <td>0</td>\n      <td>0</td>\n    </tr>\n    <tr>\n      <th>329</th>\n      <td>330</td>\n      <td>((0.0, 0.0, 0.0), 1)</td>\n      <td>0.0125</td>\n      <td>0.010</td>\n      <td>0</td>\n      <td>0</td>\n      <td>0</td>\n      <td>0</td>\n      <td>0</td>\n      <td>0</td>\n      <td>0</td>\n      <td>0</td>\n    </tr>\n    <tr>\n      <th>330</th>\n      <td>331</td>\n      <td>((0.0, 0.0, 0.0), 1)</td>\n      <td>0.0095</td>\n      <td>0.007</td>\n      <td>0</td>\n      <td>0</td>\n      <td>0</td>\n      <td>0</td>\n      <td>0</td>\n      <td>0</td>\n      <td>0</td>\n      <td>0</td>\n    </tr>\n    <tr>\n      <th>331</th>\n      <td>332</td>\n      <td>((0.0, 0.0, 0.0), 1)</td>\n      <td>0.0065</td>\n      <td>0.004</td>\n      <td>0</td>\n      <td>0</td>\n      <td>0</td>\n      <td>0</td>\n      <td>0</td>\n      <td>0</td>\n      <td>0</td>\n      <td>0</td>\n    </tr>\n    <tr>\n      <th>332</th>\n      <td>333</td>\n      <td>((0.0, 0.0, 0.0), 1)</td>\n      <td>0.0035</td>\n      <td>0.001</td>\n      <td>0</td>\n      <td>0</td>\n      <td>0</td>\n      <td>0</td>\n      <td>0</td>\n      <td>0</td>\n      <td>0</td>\n      <td>0</td>\n    </tr>\n  </tbody>\n</table>\n<p>333 rows × 12 columns</p>\n</div>"
     },
     "execution_count": 5,
     "metadata": {},
     "output_type": "execute_result"
    }
   ],
   "source": [
    "df"
   ],
   "metadata": {
    "collapsed": false
   }
  },
  {
   "cell_type": "code",
   "execution_count": null,
   "outputs": [],
   "source": [],
   "metadata": {
    "collapsed": false
   }
  }
 ],
 "metadata": {
  "kernelspec": {
   "display_name": "Python 3",
   "language": "python",
   "name": "python3"
  },
  "language_info": {
   "codemirror_mode": {
    "name": "ipython",
    "version": 2
   },
   "file_extension": ".py",
   "mimetype": "text/x-python",
   "name": "python",
   "nbconvert_exporter": "python",
   "pygments_lexer": "ipython2",
   "version": "2.7.6"
  }
 },
 "nbformat": 4,
 "nbformat_minor": 0
}
