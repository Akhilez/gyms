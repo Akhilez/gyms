{
 "cells": [
  {
   "cell_type": "code",
   "execution_count": 9,
   "metadata": {
    "collapsed": true
   },
   "outputs": [],
   "source": [
    "from opensimplex import noise2array\n",
    "import numpy as np\n",
    "import matplotlib\n",
    "matplotlib.use('TkAgg')\n",
    "import matplotlib.pyplot as plt"
   ]
  },
  {
   "cell_type": "code",
   "execution_count": 35,
   "outputs": [],
   "source": [
    "def generate_perlin_noise_2d(shape, res):\n",
    "    old_shape = list(shape)\n",
    "    new_shape = []\n",
    "    for i in range(len(shape)):\n",
    "        new_shape.append(((shape[i] // res[i]) + 1) * res[i])\n",
    "    shape = new_shape\n",
    "\n",
    "    def f(t):\n",
    "        return 6 * t**5 - 15 * t**4 + 10 * t**3\n",
    "\n",
    "    delta = (res[0] / shape[0], res[1] / shape[1])\n",
    "    d = (shape[0] // res[0], shape[1] // res[1])\n",
    "    grid = np.mgrid[0 : res[0] : delta[0], 0 : res[1] : delta[1]].transpose(1, 2, 0) % 1\n",
    "    # Gradients\n",
    "    angles = 2 * np.pi * np.random.rand(res[0] + 1, res[1] + 1)\n",
    "    gradients = np.dstack((np.cos(angles), np.sin(angles)))\n",
    "    g00 = gradients[0:-1, 0:-1].repeat(d[0], 0).repeat(d[1], 1)\n",
    "    g10 = gradients[1:, 0:-1].repeat(d[0], 0).repeat(d[1], 1)\n",
    "    g01 = gradients[0:-1, 1:].repeat(d[0], 0).repeat(d[1], 1)\n",
    "    g11 = gradients[1:, 1:].repeat(d[0], 0).repeat(d[1], 1)\n",
    "    # Ramps\n",
    "    n00 = np.sum(grid * g00, 2)\n",
    "    n10 = np.sum(np.dstack((grid[:, :, 0] - 1, grid[:, :, 1])) * g10, 2)\n",
    "    n01 = np.sum(np.dstack((grid[:, :, 0], grid[:, :, 1] - 1)) * g01, 2)\n",
    "    n11 = np.sum(np.dstack((grid[:, :, 0] - 1, grid[:, :, 1] - 1)) * g11, 2)\n",
    "    # Interpolation\n",
    "    t = f(grid)\n",
    "    n0 = n00 * (1 - t[:, :, 0]) + t[:, :, 0] * n10\n",
    "    n1 = n01 * (1 - t[:, :, 0]) + t[:, :, 0] * n11\n",
    "    noise = np.sqrt(2) * ((1 - t[:, :, 1]) * n0 + t[:, :, 1] * n1)\n",
    "\n",
    "    return noise[:old_shape[0], :old_shape[1]]"
   ],
   "metadata": {
    "collapsed": false
   }
  },
  {
   "cell_type": "code",
   "execution_count": 21,
   "outputs": [],
   "source": [
    "x = noise2array(np.arange(0, 7, 7/1000), np.arange(0, 7, 7/1000))\n",
    "plt.imshow(x)\n",
    "plt.show()"
   ],
   "metadata": {
    "collapsed": false
   }
  },
  {
   "cell_type": "code",
   "execution_count": 36,
   "outputs": [],
   "source": [
    "y = generate_perlin_noise_2d((1000, 1000), [7, 7])\n",
    "plt.imshow(y)\n",
    "plt.show()"
   ],
   "metadata": {
    "collapsed": false
   }
  },
  {
   "cell_type": "code",
   "execution_count": 37,
   "outputs": [
    {
     "data": {
      "text/plain": "(1000, 1000)"
     },
     "execution_count": 37,
     "metadata": {},
     "output_type": "execute_result"
    }
   ],
   "source": [
    "y.shape"
   ],
   "metadata": {
    "collapsed": false
   }
  },
  {
   "cell_type": "code",
   "execution_count": 46,
   "outputs": [],
   "source": [
    "z = np.zeros((1000, 1000))\n",
    "z[np.where((y > 0.2) & (y < 0.4))] = 0.5\n",
    "z[np.where((y > 0.4) & (y < 1))] = 1\n",
    "plt.imshow(z)\n",
    "plt.show()"
   ],
   "metadata": {
    "collapsed": false
   }
  },
  {
   "cell_type": "code",
   "execution_count": 41,
   "outputs": [
    {
     "data": {
      "text/plain": "False"
     },
     "execution_count": 41,
     "metadata": {},
     "output_type": "execute_result"
    }
   ],
   "source": [],
   "metadata": {
    "collapsed": false
   }
  },
  {
   "cell_type": "code",
   "execution_count": null,
   "outputs": [],
   "source": [],
   "metadata": {
    "collapsed": false
   }
  }
 ],
 "metadata": {
  "kernelspec": {
   "display_name": "Python 3",
   "language": "python",
   "name": "python3"
  },
  "language_info": {
   "codemirror_mode": {
    "name": "ipython",
    "version": 2
   },
   "file_extension": ".py",
   "mimetype": "text/x-python",
   "name": "python",
   "nbconvert_exporter": "python",
   "pygments_lexer": "ipython2",
   "version": "2.7.6"
  }
 },
 "nbformat": 4,
 "nbformat_minor": 0
}
