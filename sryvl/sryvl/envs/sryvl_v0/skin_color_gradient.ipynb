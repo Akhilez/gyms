{
 "cells": [
  {
   "cell_type": "code",
   "execution_count": 71,
   "outputs": [],
   "source": [
    "import matplotlib.pyplot as plt\n",
    "import numpy as np\n",
    "from PIL import Image"
   ],
   "metadata": {
    "collapsed": false,
    "pycharm": {
     "name": "#%%\n"
    }
   }
  },
  {
   "cell_type": "code",
   "execution_count": 146,
   "outputs": [],
   "source": [
    "def sc_b(x):\n",
    "    if x > 1.5:\n",
    "        return int((x - 1.5) / (2 - 1.5) * 150)\n",
    "    if x > 1:\n",
    "        return 0\n",
    "    return int((1-x) * 100)\n",
    "\n",
    "def sc_g(x):\n",
    "    if x < 1:\n",
    "        return 100 + int(x * 100)\n",
    "    if x < 1.5:\n",
    "        return 200\n",
    "    return 255\n",
    "\n",
    "def sc_r(x):\n",
    "    if x < 1:\n",
    "        return 255\n",
    "    return int(155 + (100 - (x - 1) * 100))\n",
    "\n",
    "\n",
    "def sc_r2(x):\n",
    "    if x < 1.5:\n",
    "        return 255\n",
    "    return int((1.5 - x) * 100 * 2 + 200)"
   ],
   "metadata": {
    "collapsed": false,
    "pycharm": {
     "name": "#%%\n"
    }
   }
  },
  {
   "cell_type": "code",
   "execution_count": 147,
   "outputs": [
    {
     "data": {
      "text/plain": "<Figure size 432x288 with 1 Axes>",
      "image/png": "[encoded data removed]"
     },
     "metadata": {
      "needs_background": "light"
     },
     "output_type": "display_data"
    }
   ],
   "source": [
    "e = np.arange(0, 2, 0.01)\n",
    "r = [sc_r(i) for i in e]\n",
    "g = [sc_g(i) for i in e]\n",
    "b = [sc_b(i) for i in e]\n",
    "plt.plot(e, r, color='red')\n",
    "plt.plot(e, g, color='green')\n",
    "plt.plot(e, b, color='blue')\n",
    "plt.xlabel('Energy Level')\n",
    "plt.ylabel('Pixel Value')\n",
    "plt.title('Skin Color vs Energy Level')\n",
    "plt.show()\n",
    "\n",
    "im = Image.new('RGB', (200, 30))\n",
    "ld = im.load()\n",
    "for x in range(200):\n",
    "    fx = x / (200 - 1) * 2\n",
    "    # print(fx)\n",
    "    for y in range(30):\n",
    "        ld[x,y] = sc_r(fx), sc_g(fx), sc_b(fx)"
   ],
   "metadata": {
    "collapsed": false,
    "pycharm": {
     "name": "#%%\n"
    }
   }
  },
  {
   "cell_type": "code",
   "execution_count": 148,
   "outputs": [
    {
     "data": {
      "text/plain": "<matplotlib.image.AxesImage at 0x1649bc190>"
     },
     "execution_count": 148,
     "metadata": {},
     "output_type": "execute_result"
    },
    {
     "data": {
      "text/plain": "<Figure size 432x288 with 1 Axes>",
      "image/png": "[encoded data removed]"
     },
     "metadata": {
      "needs_background": "light"
     },
     "output_type": "display_data"
    }
   ],
   "source": [
    "plt.imshow(im)"
   ],
   "metadata": {
    "collapsed": false,
    "pycharm": {
     "name": "#%%\n"
    }
   }
  },
  {
   "cell_type": "code",
   "execution_count": 150,
   "outputs": [],
   "source": [
    "im.show()"
   ],
   "metadata": {
    "collapsed": false,
    "pycharm": {
     "name": "#%%\n"
    }
   }
  },
  {
   "cell_type": "code",
   "execution_count": null,
   "outputs": [],
   "source": [],
   "metadata": {
    "collapsed": false,
    "pycharm": {
     "name": "#%%\n"
    }
   }
  }
 ],
 "metadata": {
  "kernelspec": {
   "display_name": "Python 3",
   "language": "python",
   "name": "python3"
  },
  "language_info": {
   "codemirror_mode": {
    "name": "ipython",
    "version": 2
   },
   "file_extension": ".py",
   "mimetype": "text/x-python",
   "name": "python",
   "nbconvert_exporter": "python",
   "pygments_lexer": "ipython2",
   "version": "2.7.6"
  }
 },
 "nbformat": 4,
 "nbformat_minor": 0
}